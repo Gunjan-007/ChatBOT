{
 "cells": [
  {
   "cell_type": "code",
   "execution_count": 1,
   "metadata": {},
   "outputs": [
    {
     "name": "stdout",
     "output_type": "stream",
     "text": [
      "Defaulting to user installation because normal site-packages is not writeable\n",
      "Collecting openai\n",
      "  Downloading openai-1.12.0-py3-none-any.whl.metadata (18 kB)\n",
      "Requirement already satisfied: anyio<5,>=3.5.0 in c:\\program files\\python312\\lib\\site-packages (from openai) (4.2.0)\n",
      "Collecting distro<2,>=1.7.0 (from openai)\n",
      "  Downloading distro-1.9.0-py3-none-any.whl.metadata (6.8 kB)\n",
      "Collecting httpx<1,>=0.23.0 (from openai)\n",
      "  Downloading httpx-0.26.0-py3-none-any.whl.metadata (7.6 kB)\n",
      "Collecting pydantic<3,>=1.9.0 (from openai)\n",
      "  Downloading pydantic-2.6.1-py3-none-any.whl.metadata (83 kB)\n",
      "     ---------------------------------------- 0.0/83.5 kB ? eta -:--:--\n",
      "     -------------- ------------------------- 30.7/83.5 kB 1.3 MB/s eta 0:00:01\n",
      "     ---------------------------------------- 83.5/83.5 kB 1.6 MB/s eta 0:00:00\n",
      "Requirement already satisfied: sniffio in c:\\program files\\python312\\lib\\site-packages (from openai) (1.3.0)\n",
      "Collecting tqdm>4 (from openai)\n",
      "  Downloading tqdm-4.66.2-py3-none-any.whl.metadata (57 kB)\n",
      "     ---------------------------------------- 0.0/57.6 kB ? eta -:--:--\n",
      "     ---------------------------------------- 57.6/57.6 kB 3.0 MB/s eta 0:00:00\n",
      "Requirement already satisfied: typing-extensions<5,>=4.7 in c:\\users\\cgunj\\appdata\\roaming\\python\\python312\\site-packages (from openai) (4.9.0)\n",
      "Requirement already satisfied: idna>=2.8 in c:\\program files\\python312\\lib\\site-packages (from anyio<5,>=3.5.0->openai) (3.6)\n",
      "Requirement already satisfied: certifi in c:\\program files\\python312\\lib\\site-packages (from httpx<1,>=0.23.0->openai) (2023.11.17)\n",
      "Collecting httpcore==1.* (from httpx<1,>=0.23.0->openai)\n",
      "  Downloading httpcore-1.0.2-py3-none-any.whl.metadata (20 kB)\n",
      "Requirement already satisfied: h11<0.15,>=0.13 in c:\\users\\cgunj\\appdata\\roaming\\python\\python312\\site-packages (from httpcore==1.*->httpx<1,>=0.23.0->openai) (0.14.0)\n",
      "Collecting annotated-types>=0.4.0 (from pydantic<3,>=1.9.0->openai)\n",
      "  Downloading annotated_types-0.6.0-py3-none-any.whl.metadata (12 kB)\n",
      "Collecting pydantic-core==2.16.2 (from pydantic<3,>=1.9.0->openai)\n",
      "  Downloading pydantic_core-2.16.2-cp312-none-win_amd64.whl.metadata (6.6 kB)\n",
      "Requirement already satisfied: colorama in c:\\program files\\python312\\lib\\site-packages (from tqdm>4->openai) (0.4.6)\n",
      "Downloading openai-1.12.0-py3-none-any.whl (226 kB)\n",
      "   ---------------------------------------- 0.0/226.7 kB ? eta -:--:--\n",
      "   ------------------- -------------------- 112.6/226.7 kB 6.4 MB/s eta 0:00:01\n",
      "   ---------------------------------------- 226.7/226.7 kB 3.4 MB/s eta 0:00:00\n",
      "Downloading distro-1.9.0-py3-none-any.whl (20 kB)\n",
      "Downloading httpx-0.26.0-py3-none-any.whl (75 kB)\n",
      "   ---------------------------------------- 0.0/75.9 kB ? eta -:--:--\n",
      "   ---------------------------------------- 75.9/75.9 kB 4.1 MB/s eta 0:00:00\n",
      "Downloading httpcore-1.0.2-py3-none-any.whl (76 kB)\n",
      "   ---------------------------------------- 0.0/76.9 kB ? eta -:--:--\n",
      "   ---------------------------------------- 76.9/76.9 kB ? eta 0:00:00\n",
      "Downloading pydantic-2.6.1-py3-none-any.whl (394 kB)\n",
      "   ---------------------------------------- 0.0/394.8 kB ? eta -:--:--\n",
      "   ------------------------------- -------- 307.2/394.8 kB 6.3 MB/s eta 0:00:01\n",
      "   ---------------------------------------- 394.8/394.8 kB 6.2 MB/s eta 0:00:00\n",
      "Downloading pydantic_core-2.16.2-cp312-none-win_amd64.whl (1.9 MB)\n",
      "   ---------------------------------------- 0.0/1.9 MB ? eta -:--:--\n",
      "    --------------------------------------- 0.0/1.9 MB ? eta -:--:--\n",
      "   --------- ------------------------------ 0.5/1.9 MB 5.6 MB/s eta 0:00:01\n",
      "   ------------ --------------------------- 0.6/1.9 MB 5.4 MB/s eta 0:00:01\n",
      "   ------------ --------------------------- 0.6/1.9 MB 5.4 MB/s eta 0:00:01\n",
      "   -------------------- ------------------- 0.9/1.9 MB 5.0 MB/s eta 0:00:01\n",
      "   -------------------------- ------------- 1.2/1.9 MB 4.9 MB/s eta 0:00:01\n",
      "   ----------------------------- ---------- 1.4/1.9 MB 4.6 MB/s eta 0:00:01\n",
      "   --------------------------------- ------ 1.5/1.9 MB 4.4 MB/s eta 0:00:01\n",
      "   ------------------------------------ --- 1.7/1.9 MB 4.2 MB/s eta 0:00:01\n",
      "   ---------------------------------------  1.8/1.9 MB 4.0 MB/s eta 0:00:01\n",
      "   ---------------------------------------- 1.9/1.9 MB 4.1 MB/s eta 0:00:00\n",
      "Downloading tqdm-4.66.2-py3-none-any.whl (78 kB)\n",
      "   ---------------------------------------- 0.0/78.3 kB ? eta -:--:--\n",
      "   ---------------------------------------- 78.3/78.3 kB ? eta 0:00:00\n",
      "Downloading annotated_types-0.6.0-py3-none-any.whl (12 kB)\n",
      "Installing collected packages: tqdm, pydantic-core, httpcore, distro, annotated-types, pydantic, httpx, openai\n",
      "Successfully installed annotated-types-0.6.0 distro-1.9.0 httpcore-1.0.2 httpx-0.26.0 openai-1.12.0 pydantic-2.6.1 pydantic-core-2.16.2 tqdm-4.66.2\n",
      "Note: you may need to restart the kernel to use updated packages.\n"
     ]
    },
    {
     "name": "stderr",
     "output_type": "stream",
     "text": [
      "\n",
      "[notice] A new release of pip is available: 23.3.2 -> 24.0\n",
      "[notice] To update, run: python.exe -m pip install --upgrade pip\n"
     ]
    }
   ],
   "source": [
    "pip install openai"
   ]
  },
  {
   "cell_type": "code",
   "execution_count": 2,
   "metadata": {},
   "outputs": [
    {
     "name": "stdout",
     "output_type": "stream",
     "text": [
      "Defaulting to user installation because normal site-packages is not writeable\n",
      "Collecting openai==0.28\n",
      "  Downloading openai-0.28.0-py3-none-any.whl.metadata (13 kB)\n",
      "Requirement already satisfied: requests>=2.20 in c:\\program files\\python312\\lib\\site-packages (from openai==0.28) (2.31.0)\n",
      "Requirement already satisfied: tqdm in c:\\users\\cgunj\\appdata\\roaming\\python\\python312\\site-packages (from openai==0.28) (4.66.2)\n",
      "Collecting aiohttp (from openai==0.28)\n",
      "  Downloading aiohttp-3.9.3-cp312-cp312-win_amd64.whl.metadata (7.6 kB)\n",
      "Requirement already satisfied: charset-normalizer<4,>=2 in c:\\program files\\python312\\lib\\site-packages (from requests>=2.20->openai==0.28) (3.3.2)\n",
      "Requirement already satisfied: idna<4,>=2.5 in c:\\program files\\python312\\lib\\site-packages (from requests>=2.20->openai==0.28) (3.6)\n",
      "Requirement already satisfied: urllib3<3,>=1.21.1 in c:\\program files\\python312\\lib\\site-packages (from requests>=2.20->openai==0.28) (2.1.0)\n",
      "Requirement already satisfied: certifi>=2017.4.17 in c:\\program files\\python312\\lib\\site-packages (from requests>=2.20->openai==0.28) (2023.11.17)\n",
      "Collecting aiosignal>=1.1.2 (from aiohttp->openai==0.28)\n",
      "  Downloading aiosignal-1.3.1-py3-none-any.whl (7.6 kB)\n",
      "Requirement already satisfied: attrs>=17.3.0 in c:\\program files\\python312\\lib\\site-packages (from aiohttp->openai==0.28) (23.2.0)\n",
      "Collecting frozenlist>=1.1.1 (from aiohttp->openai==0.28)\n",
      "  Downloading frozenlist-1.4.1-cp312-cp312-win_amd64.whl.metadata (12 kB)\n",
      "Collecting multidict<7.0,>=4.5 (from aiohttp->openai==0.28)\n",
      "  Downloading multidict-6.0.5-cp312-cp312-win_amd64.whl.metadata (4.3 kB)\n",
      "Collecting yarl<2.0,>=1.0 (from aiohttp->openai==0.28)\n",
      "  Downloading yarl-1.9.4-cp312-cp312-win_amd64.whl.metadata (32 kB)\n",
      "Requirement already satisfied: colorama in c:\\program files\\python312\\lib\\site-packages (from tqdm->openai==0.28) (0.4.6)\n",
      "Downloading openai-0.28.0-py3-none-any.whl (76 kB)\n",
      "   ---------------------------------------- 0.0/76.5 kB ? eta -:--:--\n",
      "   ---------------- ----------------------- 30.7/76.5 kB ? eta -:--:--\n",
      "   ---------------- ----------------------- 30.7/76.5 kB ? eta -:--:--\n",
      "   ---------------------------------------- 76.5/76.5 kB 602.8 kB/s eta 0:00:00\n",
      "Downloading aiohttp-3.9.3-cp312-cp312-win_amd64.whl (363 kB)\n",
      "   ---------------------------------------- 0.0/363.4 kB ? eta -:--:--\n",
      "   ---------------------------------------- 0.0/363.4 kB ? eta -:--:--\n",
      "   --- ------------------------------------ 30.7/363.4 kB ? eta -:--:--\n",
      "   ---- ---------------------------------- 41.0/363.4 kB 653.6 kB/s eta 0:00:01\n",
      "   ------- ------------------------------- 71.7/363.4 kB 435.7 kB/s eta 0:00:01\n",
      "   ------- ------------------------------- 71.7/363.4 kB 435.7 kB/s eta 0:00:01\n",
      "   --------- ----------------------------- 92.2/363.4 kB 374.1 kB/s eta 0:00:01\n",
      "   ----------- -------------------------- 112.6/363.4 kB 409.6 kB/s eta 0:00:01\n",
      "   ------------ ------------------------- 122.9/363.4 kB 379.3 kB/s eta 0:00:01\n",
      "   -------------- ----------------------- 143.4/363.4 kB 387.0 kB/s eta 0:00:01\n",
      "   ---------------- --------------------- 153.6/363.4 kB 366.6 kB/s eta 0:00:01\n",
      "   -------------------- ----------------- 194.6/363.4 kB 406.0 kB/s eta 0:00:01\n",
      "   -------------------- ----------------- 194.6/363.4 kB 406.0 kB/s eta 0:00:01\n",
      "   --------------------- ---------------- 204.8/363.4 kB 365.7 kB/s eta 0:00:01\n",
      "   ----------------------- -------------- 225.3/363.4 kB 362.0 kB/s eta 0:00:01\n",
      "   ------------------------ ------------- 235.5/363.4 kB 360.4 kB/s eta 0:00:01\n",
      "   ------------------------ ------------- 235.5/363.4 kB 360.4 kB/s eta 0:00:01\n",
      "   ---------------------------- --------- 276.5/363.4 kB 370.3 kB/s eta 0:00:01\n",
      "   ---------------------------- --------- 276.5/363.4 kB 370.3 kB/s eta 0:00:01\n",
      "   ----------------------------- -------- 286.7/363.4 kB 340.1 kB/s eta 0:00:01\n",
      "   -------------------------------- ----- 307.2/363.4 kB 345.3 kB/s eta 0:00:01\n",
      "   -------------------------------- ----- 307.2/363.4 kB 345.3 kB/s eta 0:00:01\n",
      "   --------------------------------- ---- 317.4/363.4 kB 327.5 kB/s eta 0:00:01\n",
      "   ----------------------------------- -- 337.9/363.4 kB 338.2 kB/s eta 0:00:01\n",
      "   -------------------------------------- 363.4/363.4 kB 342.2 kB/s eta 0:00:00\n",
      "Downloading frozenlist-1.4.1-cp312-cp312-win_amd64.whl (50 kB)\n",
      "   ---------------------------------------- 0.0/50.5 kB ? eta -:--:--\n",
      "   -------- ------------------------------- 10.2/50.5 kB ? eta -:--:--\n",
      "   -------------------------------- ------- 41.0/50.5 kB 495.5 kB/s eta 0:00:01\n",
      "   ---------------------------------------- 50.5/50.5 kB 648.6 kB/s eta 0:00:00\n",
      "Downloading multidict-6.0.5-cp312-cp312-win_amd64.whl (27 kB)\n",
      "Downloading yarl-1.9.4-cp312-cp312-win_amd64.whl (76 kB)\n",
      "   ---------------------------------------- 0.0/76.4 kB ? eta -:--:--\n",
      "   ----- ---------------------------------- 10.2/76.4 kB ? eta -:--:--\n",
      "   --------------------- ------------------ 41.0/76.4 kB 487.6 kB/s eta 0:00:01\n",
      "   -------------------------------- ------- 61.4/76.4 kB 544.7 kB/s eta 0:00:01\n",
      "   ---------------------------------------- 76.4/76.4 kB 424.1 kB/s eta 0:00:00\n",
      "Installing collected packages: multidict, frozenlist, yarl, aiosignal, aiohttp, openai\n",
      "  Attempting uninstall: openai\n",
      "    Found existing installation: openai 1.12.0\n",
      "    Uninstalling openai-1.12.0:\n",
      "      Successfully uninstalled openai-1.12.0\n",
      "Successfully installed aiohttp-3.9.3 aiosignal-1.3.1 frozenlist-1.4.1 multidict-6.0.5 openai-0.28.0 yarl-1.9.4\n",
      "Note: you may need to restart the kernel to use updated packages.\n"
     ]
    },
    {
     "name": "stderr",
     "output_type": "stream",
     "text": [
      "\n",
      "[notice] A new release of pip is available: 23.3.2 -> 24.0\n",
      "[notice] To update, run: python.exe -m pip install --upgrade pip\n"
     ]
    }
   ],
   "source": [
    "pip install openai==0.28"
   ]
  },
  {
   "cell_type": "code",
   "execution_count": 1,
   "metadata": {},
   "outputs": [
    {
     "name": "stdout",
     "output_type": "stream",
     "text": [
      "Defaulting to user installation because normal site-packages is not writeable\n",
      "Requirement already satisfied: requests in c:\\program files\\python312\\lib\\site-packages (2.31.0)\n",
      "Requirement already satisfied: charset-normalizer<4,>=2 in c:\\program files\\python312\\lib\\site-packages (from requests) (3.3.2)\n",
      "Requirement already satisfied: idna<4,>=2.5 in c:\\program files\\python312\\lib\\site-packages (from requests) (3.6)\n",
      "Requirement already satisfied: urllib3<3,>=1.21.1 in c:\\program files\\python312\\lib\\site-packages (from requests) (2.1.0)\n",
      "Requirement already satisfied: certifi>=2017.4.17 in c:\\program files\\python312\\lib\\site-packages (from requests) (2023.11.17)\n",
      "Note: you may need to restart the kernel to use updated packages.\n"
     ]
    },
    {
     "name": "stderr",
     "output_type": "stream",
     "text": [
      "WARNING: Ignoring invalid distribution ~ip (C:\\Users\\cgunj\\AppData\\Roaming\\Python\\Python312\\site-packages)\n",
      "WARNING: Ignoring invalid distribution ~ip (C:\\Users\\cgunj\\AppData\\Roaming\\Python\\Python312\\site-packages)\n",
      "WARNING: Ignoring invalid distribution ~ip (C:\\Users\\cgunj\\AppData\\Roaming\\Python\\Python312\\site-packages)\n"
     ]
    }
   ],
   "source": [
    "%pip install requests"
   ]
  },
  {
   "cell_type": "code",
   "execution_count": 2,
   "metadata": {},
   "outputs": [
    {
     "name": "stdout",
     "output_type": "stream",
     "text": [
      "Defaulting to user installation because normal site-packages is not writeable\n",
      "Collecting flask\n",
      "  Downloading flask-3.0.2-py3-none-any.whl.metadata (3.6 kB)\n",
      "Collecting Werkzeug>=3.0.0 (from flask)\n",
      "  Downloading werkzeug-3.0.1-py3-none-any.whl.metadata (4.1 kB)\n",
      "Requirement already satisfied: Jinja2>=3.1.2 in c:\\program files\\python312\\lib\\site-packages (from flask) (3.1.3)\n",
      "Collecting itsdangerous>=2.1.2 (from flask)\n",
      "  Downloading itsdangerous-2.1.2-py3-none-any.whl (15 kB)\n",
      "Requirement already satisfied: click>=8.1.3 in c:\\users\\cgunj\\appdata\\roaming\\python\\python312\\site-packages (from flask) (8.1.7)\n",
      "Collecting blinker>=1.6.2 (from flask)\n",
      "  Downloading blinker-1.7.0-py3-none-any.whl.metadata (1.9 kB)\n",
      "Requirement already satisfied: colorama in c:\\program files\\python312\\lib\\site-packages (from click>=8.1.3->flask) (0.4.6)\n",
      "Requirement already satisfied: MarkupSafe>=2.0 in c:\\program files\\python312\\lib\\site-packages (from Jinja2>=3.1.2->flask) (2.1.4)\n",
      "Downloading flask-3.0.2-py3-none-any.whl (101 kB)\n",
      "   ---------------------------------------- 0.0/101.3 kB ? eta -:--:--\n",
      "   ------------ --------------------------- 30.7/101.3 kB 1.3 MB/s eta 0:00:01\n",
      "   --------------- ----------------------- 41.0/101.3 kB 653.6 kB/s eta 0:00:01\n",
      "   -------------------------------------- 101.3/101.3 kB 968.7 kB/s eta 0:00:00\n",
      "Downloading blinker-1.7.0-py3-none-any.whl (13 kB)\n",
      "Downloading werkzeug-3.0.1-py3-none-any.whl (226 kB)\n",
      "   ---------------------------------------- 0.0/226.7 kB ? eta -:--:--\n",
      "   --------------------- ------------------ 122.9/226.7 kB 3.6 MB/s eta 0:00:01\n",
      "   ------------------------------ --------- 174.1/226.7 kB 2.1 MB/s eta 0:00:01\n",
      "   ---------------------------------------- 226.7/226.7 kB 1.7 MB/s eta 0:00:00\n",
      "Installing collected packages: Werkzeug, itsdangerous, blinker, flask\n",
      "Successfully installed Werkzeug-3.0.1 blinker-1.7.0 flask-3.0.2 itsdangerous-2.1.2\n",
      "Note: you may need to restart the kernel to use updated packages.\n"
     ]
    },
    {
     "name": "stderr",
     "output_type": "stream",
     "text": [
      "WARNING: Ignoring invalid distribution ~ip (C:\\Users\\cgunj\\AppData\\Roaming\\Python\\Python312\\site-packages)\n",
      "WARNING: Ignoring invalid distribution ~ip (C:\\Users\\cgunj\\AppData\\Roaming\\Python\\Python312\\site-packages)\n",
      "WARNING: Ignoring invalid distribution ~ip (C:\\Users\\cgunj\\AppData\\Roaming\\Python\\Python312\\site-packages)\n"
     ]
    }
   ],
   "source": [
    "%pip install flask"
   ]
  }
 ],
 "metadata": {
  "kernelspec": {
   "display_name": "Python 3",
   "language": "python",
   "name": "python3"
  },
  "language_info": {
   "codemirror_mode": {
    "name": "ipython",
    "version": 3
   },
   "file_extension": ".py",
   "mimetype": "text/x-python",
   "name": "python",
   "nbconvert_exporter": "python",
   "pygments_lexer": "ipython3",
   "version": "3.12.1"
  }
 },
 "nbformat": 4,
 "nbformat_minor": 2
}
